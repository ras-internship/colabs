{
  "nbformat": 4,
  "nbformat_minor": 0,
  "metadata": {
    "colab": {
      "provenance": [],
      "toc_visible": true,
      "authorship_tag": "ABX9TyPcoUXcEHkulBocAKlIPH/k",
      "include_colab_link": true
    },
    "kernelspec": {
      "name": "python3",
      "display_name": "Python 3"
    },
    "language_info": {
      "name": "python"
    }
  },
  "cells": [
    {
      "cell_type": "markdown",
      "metadata": {
        "id": "view-in-github",
        "colab_type": "text"
      },
      "source": [
        "<a href=\"https://colab.research.google.com/github/ras-internship/colabs/blob/main/_hanka.ipynb\" target=\"_parent\"><img src=\"https://colab.research.google.com/assets/colab-badge.svg\" alt=\"Open In Colab\"/></a>"
      ]
    },
    {
      "cell_type": "code",
      "source": [
        "!pip install striprtf\n"
      ],
      "metadata": {
        "colab": {
          "base_uri": "https://localhost:8080/"
        },
        "id": "PKEA0r1B4odO",
        "outputId": "7ddc5234-b3de-4cac-a86c-ae4a5faa3f67"
      },
      "execution_count": null,
      "outputs": [
        {
          "output_type": "stream",
          "name": "stdout",
          "text": [
            "Collecting striprtf\n",
            "  Downloading striprtf-0.0.26-py3-none-any.whl (6.9 kB)\n",
            "Installing collected packages: striprtf\n",
            "Successfully installed striprtf-0.0.26\n"
          ]
        }
      ]
    },
    {
      "cell_type": "code",
      "execution_count": null,
      "metadata": {
        "colab": {
          "base_uri": "https://localhost:8080/",
          "height": 35
        },
        "id": "xhMU9zpj3e6u",
        "outputId": "be6b3f3f-7d48-457f-fb85-92fb4a873945"
      },
      "outputs": [
        {
          "output_type": "execute_result",
          "data": {
            "text/plain": [
              "'structured_data_base_rtf.txt'"
            ],
            "application/vnd.google.colaboratory.intrinsic+json": {
              "type": "string"
            }
          },
          "metadata": {},
          "execution_count": 6
        }
      ],
      "source": [
        "import os\n",
        "import re\n",
        "\n",
        "from striprtf.striprtf import rtf_to_text\n",
        "\n",
        "# Путь к файлу RTF\n",
        "rtf_file_path = '/content/База _знаний_081223.rtf'\n",
        "\n",
        "# Функция для извлечения текста из файла RTF\n",
        "def extract_text_from_rtf(file_path):\n",
        "    with open(file_path, 'r') as file:\n",
        "        rtf_content = file.read()\n",
        "        text = rtf_to_text(rtf_content)\n",
        "    return text\n",
        "\n",
        "# Извлечение текста из файла RTF\n",
        "rtf_text = extract_text_from_rtf(rtf_file_path)\n",
        "\n",
        "# Разбиваем текст на абзацы\n",
        "paragraphs = rtf_text.split('\\n')\n",
        "\n",
        "# Повторное разбиение текста на смысловые блоки\n",
        "chunks = []\n",
        "current_chunk = \"\"\n",
        "\n",
        "for paragraph in paragraphs:\n",
        "    if re.match(r'^\\d+\\.', paragraph):\n",
        "        if current_chunk:\n",
        "            chunks.append(\"<chunk>\\n\" + current_chunk.strip() + \"\\n</chunk>\")\n",
        "        current_chunk = paragraph\n",
        "    else:\n",
        "        current_chunk += \"\\n\" + paragraph\n",
        "\n",
        "if current_chunk:\n",
        "    chunks.append(\"<chunk>\\n\" + current_chunk.strip() + \"\\n</chunk>\")\n",
        "\n",
        "# Создание текстового файла для структурированного текста\n",
        "output_txt_path = 'structured_data_base_rtf.txt'\n",
        "\n",
        "with open(output_txt_path, 'w') as file:\n",
        "    for chunk in chunks:\n",
        "        file.write(chunk + \"\\n\")\n",
        "\n",
        "output_txt_path\n"
      ]
    }
  ]
}